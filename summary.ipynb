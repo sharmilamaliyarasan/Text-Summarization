{
 "cells": [
  {
   "cell_type": "code",
   "execution_count": 16,
   "id": "d5369614",
   "metadata": {},
   "outputs": [],
   "source": [
    "import pandas as pd\n",
    "import torch\n",
    "from torch.utils.data import Dataset, DataLoader\n",
    "from transformers import T5Tokenizer, T5ForConditionalGeneration\n",
    "from torch.optim import AdamW\n",
    "from sklearn.model_selection import train_test_split"
   ]
  },
  {
   "cell_type": "code",
   "execution_count": 17,
   "id": "bb7dce6f",
   "metadata": {},
   "outputs": [],
   "source": [
    "df = pd.read_csv(\"news_summary.csv\", encoding='latin1')\n",
    "df = df[[\"ctext\", \"text\"]].dropna()\n",
    "df = df.sample(min(1000, len(df)), random_state=42)"
   ]
  },
  {
   "cell_type": "code",
   "execution_count": 18,
   "id": "0b8e841d",
   "metadata": {},
   "outputs": [
    {
     "name": "stdout",
     "output_type": "stream",
     "text": [
      "                                                  ctext  \\\n",
      "4047  Washington, Mar 27 (PTI) A 38-year-old woman i...   \n",
      "2731  The tea stall in Guajarat's Vadnagar where Pri...   \n",
      "1565  Continuing a yearly tradition, outgoing US Pre...   \n",
      "419   The Supreme Court on Thursday rejected a petit...   \n",
      "4269  Captain Amarinder Singh, the Congress's Chief ...   \n",
      "\n",
      "                                                   text  \n",
      "4047  A woman, who was arrested twice last week for ...  \n",
      "2731  A tea stall in Gujarat's Vadnagar railway stat...  \n",
      "1565  US President Barack Obama has declared January...  \n",
      "419   The Supreme Court on Thursday rejected a petit...  \n",
      "4269  Congress leader Captain Amarinder Singh will t...  \n"
     ]
    }
   ],
   "source": [
    "print(df.head())"
   ]
  },
  {
   "cell_type": "code",
   "execution_count": 19,
   "id": "90cb2ed5",
   "metadata": {},
   "outputs": [],
   "source": [
    "train_df, val_df = train_test_split(df, test_size=0.1, random_state=42)"
   ]
  },
  {
   "cell_type": "code",
   "execution_count": 20,
   "id": "0a84a402",
   "metadata": {},
   "outputs": [],
   "source": [
    "tokenizer = T5Tokenizer.from_pretrained(\"t5-small\")\n",
    "model = T5ForConditionalGeneration.from_pretrained(\"t5-small\")\n",
    "\n",
    "device = torch.device(\"cuda\" if torch.cuda.is_available() else \"cpu\")\n",
    "try:\n",
    "    model = model.to(device)\n",
    "except RuntimeError as e:\n",
    "    # fallback if GPU OOM on model.to()\n",
    "    print(\"Could not move model to GPU (OOM). Using CPU instead.\")\n",
    "    device = torch.device(\"cpu\")\n",
    "    model = model.to(device)"
   ]
  },
  {
   "cell_type": "code",
   "execution_count": null,
   "id": "b657723b",
   "metadata": {},
   "outputs": [],
   "source": [
    "max_input_length = 512\n",
    "max_target_length = 150\n",
    "\n",
    "# Train encodings\n",
    "train_inputs = [\"summarize: \" + t for t in train_df[\"ctext\"].tolist()]\n",
    "train_targets = train_df[\"text\"].tolist()\n",
    "\n",
    "train_enc = tokenizer(train_inputs, truncation=True, padding=\"max_length\",\n",
    "                      max_length=max_input_length, return_tensors=\"pt\")\n",
    "train_labels = tokenizer(train_targets, truncation=True, padding=\"max_length\",\n",
    "                         max_length=max_target_length, return_tensors=\"pt\")[\"input_ids\"]\n",
    "\n",
    "\n",
    "train_labels[train_labels == tokenizer.pad_token_id] = -100\n",
    "train_encodings = {\n",
    "    \"input_ids\": train_enc[\"input_ids\"],\n",
    "    \"attention_mask\": train_enc[\"attention_mask\"],\n",
    "    \"labels\": train_labels\n",
    "}\n",
    "\n",
    "\n",
    "val_inputs = [\"summarize: \" + t for t in val_df[\"ctext\"].tolist()]\n",
    "val_targets = val_df[\"text\"].tolist()\n",
    "\n",
    "val_enc = tokenizer(val_inputs, truncation=True, padding=\"max_length\",\n",
    "                    max_length=max_input_length, return_tensors=\"pt\")\n",
    "val_labels = tokenizer(val_targets, truncation=True, padding=\"max_length\",\n",
    "                       max_length=max_target_length, return_tensors=\"pt\")[\"input_ids\"]\n",
    "val_labels[val_labels == tokenizer.pad_token_id] = -100\n",
    "val_encodings = {\n",
    "    \"input_ids\": val_enc[\"input_ids\"],\n",
    "    \"attention_mask\": val_enc[\"attention_mask\"],\n",
    "    \"labels\": val_labels\n",
    "}\n",
    "\n",
    "\n",
    "class SummDataset(Dataset):\n",
    "    def __init__(self, encodings):\n",
    "        self.input_ids = encodings[\"input_ids\"]\n",
    "        self.attention_mask = encodings[\"attention_mask\"]\n",
    "        self.labels = encodings[\"labels\"]\n",
    "    def __len__(self):\n",
    "        return self.input_ids.size(0)\n",
    "    def __getitem__(self, idx):\n",
    "        return {\n",
    "            \"input_ids\": self.input_ids[idx],\n",
    "            \"attention_mask\": self.attention_mask[idx],\n",
    "            \"labels\": self.labels[idx]\n",
    "        }\n",
    "\n",
    "train_dataset = SummDataset(train_encodings)\n",
    "val_dataset = SummDataset(val_encodings)\n",
    "\n",
    "train_loader = DataLoader(train_dataset, batch_size=1, shuffle=True)  # batch_size=1 to avoid OOM\n",
    "val_loader = DataLoader(val_dataset, batch_size=1)\n"
   ]
  },
  {
   "cell_type": "code",
   "execution_count": 22,
   "id": "5378933a",
   "metadata": {},
   "outputs": [],
   "source": [
    "optimizer = AdamW(model.parameters(), lr=3e-4)"
   ]
  },
  {
   "cell_type": "code",
   "execution_count": null,
   "id": "9c4adac3",
   "metadata": {},
   "outputs": [
    {
     "name": "stdout",
     "output_type": "stream",
     "text": [
      "Epoch 1 Step 100 Avg Loss 2.1660\n",
      "Epoch 1 Step 200 Avg Loss 2.1766\n",
      "Epoch 1 Step 300 Avg Loss 2.1212\n",
      "Epoch 1 Step 400 Avg Loss 2.1249\n",
      "Epoch 1 Step 500 Avg Loss 2.0872\n",
      "Epoch 1 Step 600 Avg Loss 2.0783\n",
      "Epoch 1 Step 700 Avg Loss 2.0720\n",
      "Epoch 1 Step 800 Avg Loss 2.0718\n",
      "Epoch 1 Step 900 Avg Loss 2.0601\n",
      "Epoch 1 finished — Average Loss: 2.0601\n"
     ]
    }
   ],
   "source": [
    "num_epochs = 1    \n",
    "model.train()\n",
    "for epoch in range(num_epochs):\n",
    "    total_loss = 0.0\n",
    "    for step, batch in enumerate(train_loader):\n",
    "        input_ids = batch[\"input_ids\"].to(device)\n",
    "        attention_mask = batch[\"attention_mask\"].to(device)\n",
    "        labels = batch[\"labels\"].to(device)\n",
    "\n",
    "        outputs = model(input_ids=input_ids,\n",
    "                        attention_mask=attention_mask,\n",
    "                        labels=labels)\n",
    "        loss = outputs.loss\n",
    "        loss.backward()\n",
    "\n",
    "        torch.nn.utils.clip_grad_norm_(model.parameters(), 1.0)\n",
    "        optimizer.step()\n",
    "        optimizer.zero_grad()\n",
    "\n",
    "        total_loss += loss.item()\n",
    "        if (step + 1) % 100 == 0:\n",
    "            avg = total_loss / (step + 1)\n",
    "            print(f\"Epoch {epoch+1} Step {step+1} Avg Loss {avg:.4f}\")\n",
    "\n",
    "    avg_epoch_loss = total_loss / len(train_loader)\n",
    "    print(f\"Epoch {epoch+1} finished — Average Loss: {avg_epoch_loss:.4f}\")"
   ]
  },
  {
   "cell_type": "code",
   "execution_count": 24,
   "id": "8156b48a",
   "metadata": {},
   "outputs": [
    {
     "name": "stdout",
     "output_type": "stream",
     "text": [
      "\n",
      "--- SAMPLE 1 ---\n",
      "Original (first 300 chars): 24 Kawariyas, 6 ITBP and Police personnel were injured in stone pelting by a mob during the 'Kanwar Yatra' in Bareilly. It is alleged that the attack happened after the yatris played loud music while passing through a Muslim-dominated locality. The police had to resort to a lathi charge to disperse \n",
      "\n",
      "Target: As many as 24 kanwarias, 6 ITBP and Police personnel were recently injured in stone pelting by a mob during the 'Kanwar Yatra' in Bareilly, Uttar Pradesh. It is alleged that the attack happened after the yatris played loud music while passing through a Muslim-dominated locality. The police had to resort to a lathi charge to disperse the crowd.\n",
      "\n",
      "Predicted: 24 Kawariyas, 6 ITBP and Police personnel were injured in stone pelting by a mob during the 'Kanwar Yatra' in Bareilly. It is alleged that the attack happened after the yatris played loud music while passing through a Muslim-dominated locality. The police had to resort to a lathi charge to disperse the crowd.\n",
      "--------------------------------------------------------------------------------\n",
      "\n",
      "--- SAMPLE 2 ---\n",
      "Original (first 300 chars): In yet another shocker from the city, a three-and-a-half-year old girl was sexually assaulted in her nursery school located in Bellandur by the supervisor who was later arrested. The incident came to light on Friday when the girl upon returning from school complained about pain in her private part a\n",
      "\n",
      "Target: A three-year-old was sexually assaulted by a man who worked at the nursery school located in Bellandur in Karnataka's capital city Bengaluru. The accused school staffer was arrested soon after a complaint was filed by the parents of the kid. An FIR has also been registered against the school after the incident which took place on Friday.\n",
      "\n",
      "Predicted: A three-and-a-half-year-old girl was sexually assaulted in her nursery school located in Bellandur by the supervisor who was later arrested. The three-year-old girl complained about pain in her private part and said, 'Manju Bhaiya,' who works in her school had put his finger in there. The girl identified the man and said that the incident has happened 5-6 times.\n",
      "--------------------------------------------------------------------------------\n",
      "\n",
      "--- SAMPLE 3 ---\n",
      "Original (first 300 chars): Senior lawyer Harish Salve's strong arguments to defend India's stand on Kulbhushan Jadhav at the International Court of Justice were widely appreciated by one and all.Some, who said any senior lawyer \"would have done the same and with much less expenses than Harish Salve\", came in for a surprise wh\n",
      "\n",
      "Target: Senior lawyer Harish Salve, who charged ?1 for representing India at ICJ, is one of the most expensive lawyers in the country. His fee for an appearance in the Supreme Court or High Courts ranges between ?6-?15 lakh. Salve's clients include Salman Khan and Mukesh Ambani. He also appeared in the Bilkis Bano case at National Human Rights Commission's request.\n",
      "\n",
      "Predicted: Senior lawyer Harish Salve has charged just?1 as his fee for the Kulbhushan Jadhav case. He is one of the most expensive lawyers in the country is a fact possibly well known. He also has a penchant for Apple products and generally likes to have one within hours of its launch.\n",
      "--------------------------------------------------------------------------------\n",
      "\n",
      "--- SAMPLE 4 ---\n",
      "Original (first 300 chars): By Yoshita Singh and Lalit K Jha Washington, Jun 26 (PTI) Highlighting his achievements in rooting out corruption, Prime Minister Narendra Modi said that there has been \"not even one taint or blot\" on his government in the past three years. Modi said corruption was the main reason why governments in\n",
      "\n",
      "Target: Prime Minister Narendra Modi, who is currently in the United States as part of his three-nation tour, said that there has not been a single taint on his government in the past three years. Asserting that \"Indians hate corruption\", Modi added, \"Corruption was the main reason why governments in India were voted out in the past.\"\n",
      "\n",
      "Predicted: Prime Minister Narendra Modi has said that there has been \"not even one taint or blot\" on his government in the past three years. \"Indians hate corruption,\" he added. \"Whatever work my government has done in the last three years, till now there is not even one taint or blot on this government,\" he added.\n",
      "--------------------------------------------------------------------------------\n",
      "\n",
      "--- SAMPLE 5 ---\n",
      "Original (first 300 chars): Los Angeles, Apr 8 (PTI) Singer Adele has broken a record as her record \"21\" has overtaken Carole Kings \"Tapestry\" by becoming the longest-charting album by a woman on the Billboard 200. The 28-year-old singer - who has four-year-old son Angelo with her husband Simon Konecki - topped the charts with\n",
      "\n",
      "Target: British singer Adele's 2011 album '21' has broken the record, held by Carole King for 'Tapestry', to become the longest-charting album by a woman on Billboard 200, a music-record ranking in the US. Presently, the album is on its 319th week on the list, beating King's album by one week. The album was also ranked the top Billboard 200 album.\n",
      "\n",
      "Predicted: Singer Adele Adele has broken a record as her record \"21\" has overtaken Carole Kings \"Tapestry\" by becoming the longest-charting album by a woman on the Billboard 200. Adele has four-year-old son Angelo with her husband Simon Konecki. Adele has topped the charts with the album in 2011, which has lead single \"Someone Like You\" and is currently on its 319th week on the list.\n",
      "--------------------------------------------------------------------------------\n"
     ]
    }
   ],
   "source": [
    "model.eval()\n",
    "with torch.no_grad():\n",
    "    for i in range(min(5, len(val_df))):\n",
    "        text = val_df.iloc[i][\"ctext\"]\n",
    "        input_ids = tokenizer(\"summarize: \" + text, return_tensors=\"pt\",\n",
    "                              truncation=True, max_length=max_input_length).input_ids.to(device)\n",
    "\n",
    "        summary_ids = model.generate(\n",
    "            input_ids,\n",
    "            max_length=150,\n",
    "            min_length=30,\n",
    "            num_beams=2,\n",
    "            early_stopping=True\n",
    "        )\n",
    "        summary = tokenizer.decode(summary_ids[0], skip_special_tokens=True)\n",
    "        print(\"\\n--- SAMPLE\", i+1, \"---\")\n",
    "        print(\"Original (first 300 chars):\", text[:300])\n",
    "        print(\"\\nTarget:\", val_df.iloc[i][\"text\"])\n",
    "        print(\"\\nPredicted:\", summary)\n",
    "        print(\"-\" * 80)"
   ]
  },
  {
   "cell_type": "code",
   "execution_count": 25,
   "id": "da66eaa4",
   "metadata": {},
   "outputs": [
    {
     "name": "stdout",
     "output_type": "stream",
     "text": [
      "\n",
      "Model saved to ./t5_summarizer_model_manual\n"
     ]
    }
   ],
   "source": [
    "model.save_pretrained(\"./t5_summarizer_model_manual\")\n",
    "tokenizer.save_pretrained(\"./t5_summarizer_model_manual\")\n",
    "print(\"\\nModel saved to ./t5_summarizer_model_manual\")"
   ]
  }
 ],
 "metadata": {
  "kernelspec": {
   "display_name": "Python 3",
   "language": "python",
   "name": "python3"
  },
  "language_info": {
   "codemirror_mode": {
    "name": "ipython",
    "version": 3
   },
   "file_extension": ".py",
   "mimetype": "text/x-python",
   "name": "python",
   "nbconvert_exporter": "python",
   "pygments_lexer": "ipython3",
   "version": "3.10.18"
  }
 },
 "nbformat": 4,
 "nbformat_minor": 5
}
