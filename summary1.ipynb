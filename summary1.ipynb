{
 "cells": [
  {
   "cell_type": "code",
   "execution_count": 13,
   "id": "2c5221e1",
   "metadata": {},
   "outputs": [],
   "source": [
    "import pandas as pd\n",
    "import torch\n",
    "from torch.utils.data import Dataset, DataLoader\n",
    "from transformers import T5Tokenizer, T5ForConditionalGeneration\n",
    "from torch.optim import AdamW"
   ]
  },
  {
   "cell_type": "code",
   "execution_count": null,
   "id": "8e3d2239",
   "metadata": {},
   "outputs": [],
   "source": [
    "df = pd.read_csv(\"news_summary.csv\", encoding='latin1') \n",
    "df = df[['text', 'ctext']].dropna().reset_index(drop=True)\n",
    "\n",
    "# Convert columns to string to avoid tokenizer errors\n",
    "df['text'] = df['text'].astype(str)\n",
    "df['ctext'] = df['ctext'].astype(str)"
   ]
  },
  {
   "cell_type": "code",
   "execution_count": 16,
   "id": "af4cdd1e",
   "metadata": {},
   "outputs": [],
   "source": [
    "model_name = \"t5-base\"\n",
    "tokenizer = T5Tokenizer.from_pretrained(model_name)\n",
    "model = T5ForConditionalGeneration.from_pretrained(model_name)\n",
    "\n",
    "device = \"cuda\" if torch.cuda.is_available() else \"cpu\"\n",
    "model = model.to(device)"
   ]
  },
  {
   "cell_type": "code",
   "execution_count": null,
   "id": "e0d55406",
   "metadata": {},
   "outputs": [
    {
     "name": "stdout",
     "output_type": "stream",
     "text": [
      "Loss: 8.425366401672363\n",
      "Loss: 7.950828552246094\n",
      "Loss: 7.9670491218566895\n",
      "Loss: 8.088427543640137\n",
      "Loss: 6.992940425872803\n",
      "Loss: 6.688812732696533\n",
      "Loss: 6.465960502624512\n",
      "Loss: 6.038684368133545\n",
      "Loss: 6.001637935638428\n",
      "Loss: 5.575855731964111\n",
      "Loss: 5.0890350341796875\n",
      "Loss: 4.689815998077393\n",
      "Loss: 4.315896034240723\n",
      "Loss: 4.225680828094482\n",
      "Loss: 4.207030296325684\n",
      "Loss: 3.6357429027557373\n",
      "Loss: 3.965045690536499\n",
      "Loss: 3.681044816970825\n",
      "Loss: 3.8308866024017334\n",
      "Loss: 3.174499750137329\n",
      "Loss: 3.260751485824585\n",
      "Loss: 3.708585500717163\n",
      "Loss: 3.263336181640625\n",
      "Loss: 4.174873352050781\n",
      "Loss: 3.427185535430908\n",
      "Loss: 3.3809382915496826\n",
      "Loss: 3.428065299987793\n",
      "Loss: 3.5400032997131348\n",
      "Loss: 3.2546932697296143\n",
      "Loss: 4.436769485473633\n",
      "Loss: 3.1971943378448486\n",
      "Loss: 3.3803763389587402\n",
      "Loss: 3.5365967750549316\n",
      "Loss: 3.6054186820983887\n",
      "Loss: 2.9426610469818115\n",
      "Loss: 2.9455809593200684\n",
      "Loss: 3.298663854598999\n",
      "Loss: 3.0589547157287598\n",
      "Loss: 2.8676438331604004\n",
      "Loss: 3.3505539894104004\n",
      "Loss: 3.2869319915771484\n",
      "Loss: 3.4787654876708984\n",
      "Loss: 3.068955183029175\n",
      "Loss: 3.4432015419006348\n",
      "Loss: 3.034708261489868\n",
      "Loss: 3.2835187911987305\n",
      "Loss: 3.332606315612793\n",
      "Loss: 3.170661687850952\n",
      "Loss: 3.3098835945129395\n",
      "Loss: 3.5327539443969727\n"
     ]
    },
    {
     "ename": "KeyboardInterrupt",
     "evalue": "",
     "output_type": "error",
     "traceback": [
      "\u001b[1;31m---------------------------------------------------------------------------\u001b[0m",
      "\u001b[1;31mKeyboardInterrupt\u001b[0m                         Traceback (most recent call last)",
      "Cell \u001b[1;32mIn[17], line 47\u001b[0m\n\u001b[0;32m     44\u001b[0m loss\u001b[38;5;241m.\u001b[39mbackward()\n\u001b[0;32m     45\u001b[0m optimizer\u001b[38;5;241m.\u001b[39mstep()\n\u001b[1;32m---> 47\u001b[0m \u001b[38;5;28mprint\u001b[39m(\u001b[38;5;124m\"\u001b[39m\u001b[38;5;124mLoss:\u001b[39m\u001b[38;5;124m\"\u001b[39m, \u001b[43mloss\u001b[49m\u001b[38;5;241;43m.\u001b[39;49m\u001b[43mitem\u001b[49m\u001b[43m(\u001b[49m\u001b[43m)\u001b[49m)\n",
      "\u001b[1;31mKeyboardInterrupt\u001b[0m: "
     ]
    }
   ],
   "source": [
    "max_input_length = 512\n",
    "max_target_length = 150\n",
    "\n",
    "input_ids_list = []\n",
    "attention_mask_list = []\n",
    "labels_list = []\n",
    "\n",
    "for i in range(len(df)):\n",
    "    text = \"summarize: \" + df['text'][i]\n",
    "    summary = df['ctext'][i]\n",
    "\n",
    "    input_enc = tokenizer(text, max_length=max_input_length, truncation=True,\n",
    "                          padding=\"max_length\", return_tensors=\"pt\")\n",
    "    target_enc = tokenizer(summary, max_length=max_target_length, truncation=True,\n",
    "                           padding=\"max_length\", return_tensors=\"pt\")\n",
    "\n",
    "    input_ids_list.append(input_enc['input_ids'])\n",
    "    attention_mask_list.append(input_enc['attention_mask'])\n",
    "    labels_list.append(target_enc['input_ids'])\n",
    "\n",
    "input_ids = torch.vstack(input_ids_list).to(device)\n",
    "attention_mask = torch.vstack(attention_mask_list).to(device)\n",
    "labels = torch.vstack(labels_list).to(device)\n",
    "\n",
    "optimizer = AdamW(model.parameters(), lr=5e-5)\n",
    "epochs = 1  # start with 1 for testing; increase later\n",
    "batch_size = 4\n",
    "\n",
    "model.train()\n",
    "for epoch in range(epochs):\n",
    "    for i in range(0, len(input_ids), batch_size):\n",
    "        batch_input_ids = input_ids[i:i+batch_size]\n",
    "        batch_attention_mask = attention_mask[i:i+batch_size]\n",
    "        batch_labels = labels[i:i+batch_size]\n",
    "\n",
    "        outputs = model(input_ids=batch_input_ids,\n",
    "                        attention_mask=batch_attention_mask,\n",
    "                        labels=batch_labels)\n",
    "        loss = outputs.loss\n",
    "\n",
    "        optimizer.zero_grad()\n",
    "        loss.backward()\n",
    "        optimizer.step()\n",
    "\n",
    "        print(\"Loss:\", loss.item())\n"
   ]
  },
  {
   "cell_type": "code",
   "execution_count": 18,
   "id": "dea3c945",
   "metadata": {},
   "outputs": [
    {
     "name": "stdout",
     "output_type": "stream",
     "text": [
      "✅ Training complete and model saved!\n"
     ]
    }
   ],
   "source": [
    "model.save_pretrained(\"./t5_summarization_model\")\n",
    "tokenizer.save_pretrained(\"./t5_summarization_model\")\n",
    "\n",
    "print(\"✅ Training complete and model saved!\")"
   ]
  }
 ],
 "metadata": {
  "kernelspec": {
   "display_name": "Python 3",
   "language": "python",
   "name": "python3"
  },
  "language_info": {
   "codemirror_mode": {
    "name": "ipython",
    "version": 3
   },
   "file_extension": ".py",
   "mimetype": "text/x-python",
   "name": "python",
   "nbconvert_exporter": "python",
   "pygments_lexer": "ipython3",
   "version": "3.10.18"
  }
 },
 "nbformat": 4,
 "nbformat_minor": 5
}
